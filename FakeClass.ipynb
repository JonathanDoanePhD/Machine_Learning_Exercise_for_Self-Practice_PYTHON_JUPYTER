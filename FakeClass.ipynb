{
 "cells": [
  {
   "cell_type": "markdown",
   "id": "d4cf81ad",
   "metadata": {},
   "source": []
  },
  {
   "cell_type": "code",
   "execution_count": 1,
   "id": "f8642ee5",
   "metadata": {},
   "outputs": [
    {
     "name": "stdout",
     "output_type": "stream",
     "text": [
      "  Student  HW1  HW2   HW3   Q1  Q2   Q3  Exam\n",
      "0     Jon  8.0    8   4.0  8.0  10  5.0  95.0\n",
      "1   Jon D  9.0    8   5.0  8.0  10  5.0  89.0\n",
      "2  Andrew  8.0    7   2.0  8.0   8  0.0  78.0\n",
      "3   Becky  7.0    7   NaN  8.0   6  0.0  70.0\n",
      "4   James  NaN    3   NaN  6.0   8  NaN  50.0\n",
      "5  Maddie  7.0    8  12.0  6.0   8  2.0  75.0\n",
      "6   Laura  8.0    5   5.0  6.0   6  0.0  50.0\n",
      "7   Calla  4.0    5  10.0  6.0   0  0.0   7.0\n",
      "8  annon.  3.0    5   3.0  NaN   2  0.0   NaN\n",
      "\n",
      "\n",
      "Are homework or quiz grades indicative of a student's Exam score?\n"
     ]
    }
   ],
   "source": [
    "import pandas as pd\n",
    "\n",
    "df = pd.read_csv(r'C:\\Users\\kitsu\\Documents\\TempDocuments\\MachineLearningFakeClass.csv')\n",
    "\n",
    "print(df)\n",
    "\n",
    "print(\"\\n\")\n",
    "print(\"Are homework or quiz grades indicative of a student's Exam score?\")"
   ]
  },
  {
   "cell_type": "code",
   "execution_count": 2,
   "id": "1c4d8d5c",
   "metadata": {},
   "outputs": [
    {
     "name": "stdout",
     "output_type": "stream",
     "text": [
      "  Student  HW1  HW2   HW3   Q1  Q2   Q3  Exam  HW_miss  Q_miss\n",
      "0     Jon  8.0    8   4.0  8.0  10  5.0  95.0        0       0\n",
      "1   Jon D  9.0    8   5.0  8.0  10  5.0  89.0        0       0\n",
      "2  Andrew  8.0    7   2.0  8.0   8  0.0  78.0        0       0\n",
      "3   Becky  7.0    7   NaN  8.0   6  0.0  70.0        1       0\n",
      "4   James  NaN    3   NaN  6.0   8  NaN  50.0        2       1\n",
      "5  Maddie  7.0    8  12.0  6.0   8  2.0  75.0        0       0\n",
      "6   Laura  8.0    5   5.0  6.0   6  0.0  50.0        0       0\n",
      "7   Calla  4.0    5  10.0  6.0   0  0.0   7.0        0       0\n",
      "8  annon.  3.0    5   3.0  NaN   2  0.0   NaN        0       1\n"
     ]
    }
   ],
   "source": [
    "#Let's count how many HW and Q each student missed\n",
    "HW_miss = []\n",
    "Q_miss = []\n",
    "\n",
    "for s in range(len(df.index)):\n",
    "    HW_miss.append(df.iloc[s,1:4].isnull().sum())\n",
    "    Q_miss.append(df.iloc[s,4:7].isnull().sum())\n",
    "\n",
    "df[\"HW_miss\"] = HW_miss\n",
    "df[\"Q_miss\"] = Q_miss\n",
    "\n",
    "print(df)"
   ]
  },
  {
   "cell_type": "code",
   "execution_count": 3,
   "id": "907d0032",
   "metadata": {},
   "outputs": [
    {
     "name": "stdout",
     "output_type": "stream",
     "text": [
      "  Student  HW1  HW2   HW3   Q1  Q2   Q3  Exam  HW_miss  Q_miss\n",
      "0     Jon  8.0    8   4.0  8.0  10  5.0  95.0        0       0\n",
      "1   Jon D  9.0    8   5.0  8.0  10  5.0  89.0        0       0\n",
      "2  Andrew  8.0    7   2.0  8.0   8  0.0  78.0        0       0\n",
      "3   Becky  7.0    7   0.0  8.0   6  0.0  70.0        1       0\n",
      "4   James  0.0    3   0.0  6.0   8  0.0  50.0        2       1\n",
      "5  Maddie  7.0    8  12.0  6.0   8  2.0  75.0        0       0\n",
      "6   Laura  8.0    5   5.0  6.0   6  0.0  50.0        0       0\n",
      "7   Calla  4.0    5  10.0  6.0   0  0.0   7.0        0       0\n",
      "8  annon.  3.0    5   3.0  0.0   2  0.0   0.0        0       1\n"
     ]
    }
   ],
   "source": [
    "#Failure to submit an assignment results in a \"0\" score\n",
    "df.fillna(0, inplace=True)\n",
    "\n",
    "print(df)"
   ]
  },
  {
   "cell_type": "code",
   "execution_count": 4,
   "id": "7ea87d65",
   "metadata": {},
   "outputs": [
    {
     "name": "stdout",
     "output_type": "stream",
     "text": [
      "  Student  HW1  HW2  HW3  Q1  Q2  Q3  HW_miss  Q_miss  HW_tot  Q_tot  Exam\n",
      "0     Jon    8    8    4   8  10   5        0       0      20     23    95\n",
      "1   Jon D    9    8    5   8  10   5        0       0      22     23    89\n",
      "2  Andrew    8    7    2   8   8   0        0       0      17     16    78\n",
      "3   Becky    7    7    0   8   6   0        1       0      14     14    70\n",
      "4   James    0    3    0   6   8   0        2       1       3     14    50\n",
      "5  Maddie    7    8   12   6   8   2        0       0      27     16    75\n",
      "6   Laura    8    5    5   6   6   0        0       0      18     12    50\n",
      "7   Calla    4    5   10   6   0   0        0       0      19      6     7\n",
      "8  annon.    3    5    3   0   2   0        0       1      11      2     0\n"
     ]
    }
   ],
   "source": [
    "#Now, let's tally up their scores\n",
    "HW_tot = []\n",
    "Q_tot = []\n",
    "\n",
    "for s in range(len(df.index)):\n",
    "    HW_tot.append(df.iloc[s,1:4].sum())\n",
    "    Q_tot.append(df.iloc[s,4:7].sum())\n",
    "\n",
    "df[\"HW_tot\"] = HW_tot\n",
    "df[\"Q_tot\"] = Q_tot\n",
    "\n",
    "#Let's make our target \"Exam\" column displayed last\n",
    "df = df[ [ col for col in df.columns if col != 'Exam' ] + ['Exam']]\n",
    "\n",
    "#Let's display our table as integers, rather than floats\n",
    "pd.options.display.float_format = '{:,.0f}'.format\n",
    "\n",
    "print(df)"
   ]
  },
  {
   "cell_type": "code",
   "execution_count": 5,
   "id": "7cc536d1",
   "metadata": {},
   "outputs": [
    {
     "name": "stdout",
     "output_type": "stream",
     "text": [
      "       HW1  HW2  HW3  Q1  Q2  Q3  HW_miss  Q_miss  HW_tot  Q_tot\n",
      "count    9    9    9   9   9   9        9       9       9      9\n",
      "mean     6    6    5   6   6   1        0       0      17     14\n",
      "std      3    2    4   3   3   2        1       0       7      7\n",
      "min      0    3    0   0   0   0        0       0       3      2\n",
      "25%      4    5    2   6   6   0        0       0      14     12\n",
      "50%      7    7    4   6   8   0        0       0      18     14\n",
      "75%      8    8    5   8   8   2        0       0      20     16\n",
      "max      9    8   12   8  10   5        2       1      27     23\n",
      "\n",
      "\n",
      "count    9\n",
      "mean    57\n",
      "std     34\n",
      "min      0\n",
      "25%     50\n",
      "50%     70\n",
      "75%     78\n",
      "max     95\n",
      "Name: Exam, dtype: float64\n"
     ]
    }
   ],
   "source": [
    "#We aim to predict \"y\"\n",
    "y = df.Exam\n",
    "\n",
    "#The data used for the prediction is \"X\"\n",
    "X = df[[\"HW1\", \"HW2\", \"HW3\", \"Q1\", \"Q2\", \"Q3\", \"HW_miss\", \"Q_miss\", \"HW_tot\", \"Q_tot\"]]\n",
    "\n",
    "print(X.describe())\n",
    "\n",
    "print(\"\\n\")\n",
    "print(y.describe())"
   ]
  },
  {
   "cell_type": "code",
   "execution_count": 6,
   "id": "4564df74",
   "metadata": {},
   "outputs": [
    {
     "name": "stdout",
     "output_type": "stream",
     "text": [
      "Let's use a RandomForestRegressor.\n",
      "\n",
      "\n",
      "   HW1  HW2  HW3  Q1  Q2  Q3  HW_miss  Q_miss  HW_tot  Q_tot  Exam  Pred\n",
      "7    4    5   10   6   0   0        0       0      19      6     7    35\n",
      "2    8    7    2   8   8   0        0       0      17     16    78    69\n",
      "1    9    8    5   8  10   5        0       0      22     23    89    84\n"
     ]
    }
   ],
   "source": [
    "print(\"Let's use a RandomForestRegressor.\")\n",
    "\n",
    "from sklearn.ensemble import RandomForestRegressor\n",
    "\n",
    "df_model = RandomForestRegressor(random_state=1)\n",
    "\n",
    "#We will use some of our data to build our model, and we will test our model on the excluded \"validation\" data\n",
    "#to evaluate our model's appearant performance\n",
    "from sklearn.model_selection import train_test_split\n",
    "\n",
    "t_X, v_X, t_y, v_y = train_test_split(X, y, random_state = 0)\n",
    "\n",
    "df_model = RandomForestRegressor(random_state=1)\n",
    "\n",
    "df_model.fit(t_X, t_y)\n",
    "\n",
    "df_model_preds = df_model.predict(v_X)\n",
    "\n",
    "v_df = v_X\n",
    "\n",
    "v_df[\"Exam\"] = v_y\n",
    "\n",
    "v_df[\"Pred\"] = df_model_preds\n",
    "\n",
    "print(\"\\n\")\n",
    "print(v_df)\n",
    "\n",
    "v_df.drop(columns=[\"Exam\", \"Pred\"], inplace=True)"
   ]
  },
  {
   "cell_type": "code",
   "execution_count": 7,
   "id": "a19df52c",
   "metadata": {},
   "outputs": [
    {
     "name": "stdout",
     "output_type": "stream",
     "text": [
      "Let's investigate the accuracy of our model, using the mean square error.\n",
      "\n",
      " 13.566666666666668\n"
     ]
    }
   ],
   "source": [
    "print(\"Let's investigate the accuracy of our model, using the mean square error.\")\n",
    "\n",
    "from sklearn.metrics import mean_absolute_error\n",
    "\n",
    "print(\"\\n\", mean_absolute_error(v_y, df_model_preds))"
   ]
  },
  {
   "cell_type": "code",
   "execution_count": 8,
   "id": "b1c795eb",
   "metadata": {},
   "outputs": [
    {
     "name": "stdout",
     "output_type": "stream",
     "text": [
      "We would be remiss to not investigate the effectiveness of other DecisionTreeRegressors. \n",
      "\n",
      "Max leaf nodes: 2  \t\t Mean Absolute Error:  12\n",
      "Max leaf nodes: 3  \t\t Mean Absolute Error:  6\n",
      "Max leaf nodes: 4  \t\t Mean Absolute Error:  6\n",
      "Max leaf nodes: 5  \t\t Mean Absolute Error:  7\n",
      "Max leaf nodes: 6  \t\t Mean Absolute Error:  7\n",
      "Max leaf nodes: 7  \t\t Mean Absolute Error:  7\n",
      "Max leaf nodes: 8  \t\t Mean Absolute Error:  7\n",
      "Max leaf nodes: 9  \t\t Mean Absolute Error:  7\n",
      "Max leaf nodes: 10  \t\t Mean Absolute Error:  7\n",
      "Max leaf nodes: 11  \t\t Mean Absolute Error:  7\n",
      "Max leaf nodes: 12  \t\t Mean Absolute Error:  7\n",
      "Max leaf nodes: 13  \t\t Mean Absolute Error:  7\n",
      "Max leaf nodes: 14  \t\t Mean Absolute Error:  7\n",
      "Max leaf nodes: 15  \t\t Mean Absolute Error:  7\n",
      "Max leaf nodes: 16  \t\t Mean Absolute Error:  7\n",
      "Max leaf nodes: 17  \t\t Mean Absolute Error:  7\n",
      "Max leaf nodes: 18  \t\t Mean Absolute Error:  7\n",
      "Max leaf nodes: 19  \t\t Mean Absolute Error:  7\n",
      "Max leaf nodes: 20  \t\t Mean Absolute Error:  7\n"
     ]
    }
   ],
   "source": [
    "print(\"We would be remiss to not investigate the effectiveness of other DecisionTreeRegressors.\", \"\\n\")\n",
    "\n",
    "from sklearn.tree import DecisionTreeRegressor\n",
    "\n",
    "def get_mae(max_leaf_nodes, t_X, v_X, t_y, v_y):\n",
    "    model = DecisionTreeRegressor(max_leaf_nodes=max_leaf_nodes, random_state=0)\n",
    "    model.fit(t_X, t_y)\n",
    "    preds_val = model.predict(v_X)\n",
    "    mae = mean_absolute_error(v_y, preds_val)\n",
    "    return(mae)\n",
    "\n",
    "for max_leaf_nodes in range(2,21):\n",
    "    my_mae = get_mae(max_leaf_nodes, t_X, v_X, t_y, v_y)\n",
    "    print(\"Max leaf nodes: %d  \\t\\t Mean Absolute Error:  %d\" %(max_leaf_nodes, my_mae))"
   ]
  },
  {
   "cell_type": "code",
   "execution_count": 10,
   "id": "d01c516b",
   "metadata": {},
   "outputs": [
    {
     "name": "stdout",
     "output_type": "stream",
     "text": [
      "Interesting; let's see those first five models more explicitly.\n",
      "\n",
      "\n",
      "   HW1  HW2  HW3  Q1  Q2  Q3  HW_miss  Q_miss  HW_tot  Q_tot  Exam  Pred\n",
      "7    4    5   10   6   0   0        0       0      19      6     7     0\n",
      "2    8    7    2   8   8   0        0       0      17     16    78    68\n",
      "1    9    8    5   8  10   5        0       0      22     23    89    68\n",
      "\n",
      "\n",
      "   HW1  HW2  HW3  Q1  Q2  Q3  HW_miss  Q_miss  HW_tot  Q_tot  Exam  Pred\n",
      "7    4    5   10   6   0   0        0       0      19      6     7     0\n",
      "2    8    7    2   8   8   0        0       0      17     16    78    80\n",
      "1    9    8    5   8  10   5        0       0      22     23    89    80\n",
      "\n",
      "\n",
      "   HW1  HW2  HW3  Q1  Q2  Q3  HW_miss  Q_miss  HW_tot  Q_tot  Exam  Pred\n",
      "7    4    5   10   6   0   0        0       0      19      6     7     0\n",
      "2    8    7    2   8   8   0        0       0      17     16    78    72\n",
      "1    9    8    5   8  10   5        0       0      22     23    89    95\n",
      "\n",
      "\n",
      "   HW1  HW2  HW3  Q1  Q2  Q3  HW_miss  Q_miss  HW_tot  Q_tot  Exam  Pred\n",
      "7    4    5   10   6   0   0        0       0      19      6     7     0\n",
      "2    8    7    2   8   8   0        0       0      17     16    78    70\n",
      "1    9    8    5   8  10   5        0       0      22     23    89    95\n",
      "\n",
      "\n",
      "   HW1  HW2  HW3  Q1  Q2  Q3  HW_miss  Q_miss  HW_tot  Q_tot  Exam  Pred\n",
      "7    4    5   10   6   0   0        0       0      19      6     7     0\n",
      "2    8    7    2   8   8   0        0       0      17     16    78    70\n",
      "1    9    8    5   8  10   5        0       0      22     23    89    95\n"
     ]
    }
   ],
   "source": [
    "print(\"Interesting; let's see those first five models more explicitly.\")\n",
    "\n",
    "for max_leaf_nodes in range(2,7):\n",
    "    model = DecisionTreeRegressor(max_leaf_nodes=max_leaf_nodes, random_state=0)\n",
    "    model.fit(t_X, t_y)\n",
    "    preds_val = model.predict(v_X)\n",
    "    v_X[\"Exam\"] = v_y\n",
    "    v_X[\"Pred\"] = preds_val\n",
    "    print(\"\\n\")\n",
    "    print(v_X)\n",
    "    v_X.drop(columns=[\"Exam\", \"Pred\"], inplace=True)"
   ]
  }
 ],
 "metadata": {
  "kernelspec": {
   "display_name": "Python 3 (ipykernel)",
   "language": "python",
   "name": "python3"
  },
  "language_info": {
   "codemirror_mode": {
    "name": "ipython",
    "version": 3
   },
   "file_extension": ".py",
   "mimetype": "text/x-python",
   "name": "python",
   "nbconvert_exporter": "python",
   "pygments_lexer": "ipython3",
   "version": "3.10.1"
  }
 },
 "nbformat": 4,
 "nbformat_minor": 5
}
